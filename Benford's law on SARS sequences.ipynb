{
 "cells": [
  {
   "cell_type": "code",
   "execution_count": 4,
   "metadata": {},
   "outputs": [],
   "source": [
    "import numpy as np\n",
    "import pandas as pd"
   ]
  },
  {
   "cell_type": "code",
   "execution_count": 5,
   "metadata": {},
   "outputs": [],
   "source": [
    "#from io import StringIO \n",
    "#sequence = np.loadtxt('Book4.txt',dtype=str,delimiter=None)"
   ]
  },
  {
   "cell_type": "code",
   "execution_count": 23,
   "metadata": {},
   "outputs": [],
   "source": [
    "a_file = open(\"SARS-CoV2-2.txt\", \"r\")\n",
    "\n",
    "string_without_line_breaks = \"\"\n",
    "for line in a_file:\n",
    "  stripped_line = line.rstrip()\n",
    "  string_without_line_breaks += stripped_line\n",
    "a_file.close()\n",
    "\n",
    "#print(string_without_line_breaks)"
   ]
  },
  {
   "cell_type": "code",
   "execution_count": 25,
   "metadata": {},
   "outputs": [],
   "source": [
    "def split(string_without_line_breaks): \n",
    "    return list(string_without_line_breaks) \n",
    "\n",
    "sequence = split(string_without_line_breaks)\n",
    "#print(sequence)"
   ]
  },
  {
   "cell_type": "code",
   "execution_count": 26,
   "metadata": {},
   "outputs": [],
   "source": [
    "#aa = ''.join(a).count('aa')\n",
    "#cc = ''.join(a).count('cc')\n",
    "#print(aa)\n",
    "#print(cc)"
   ]
  },
  {
   "cell_type": "code",
   "execution_count": 27,
   "metadata": {},
   "outputs": [],
   "source": [
    "def count_pattern(lst, *pattern):\n",
    "    return ''.join(lst).count(''.join(pattern))"
   ]
  },
  {
   "cell_type": "code",
   "execution_count": 28,
   "metadata": {},
   "outputs": [
    {
     "name": "stdout",
     "output_type": "stream",
     "text": [
      "643 709 102 119 195 239 12 14 54 55 2 1\n"
     ]
    }
   ],
   "source": [
    "# Get the count for special cases: for XX, add XXX + XXXXX; for XXX, add XXXX + XXXXX; for XXXX, add XXXXX\n",
    "\n",
    "print(count_pattern(sequence, 'AAA'),\n",
    "      count_pattern(sequence, 'TTT'),\n",
    "      count_pattern(sequence, 'CCC'),\n",
    "      count_pattern(sequence, 'GGG'),\n",
    "      count_pattern(sequence, 'AAAA'),\n",
    "      count_pattern(sequence, 'TTTT'),\n",
    "      count_pattern(sequence, 'CCCC'),\n",
    "      count_pattern(sequence, 'GGGG'),\n",
    "      count_pattern(sequence, 'AAAAA'),\n",
    "      count_pattern(sequence, 'TTTTT'),\n",
    "      count_pattern(sequence, 'CCCCC'),\n",
    "      count_pattern(sequence, 'GGGGG'))"
   ]
  },
  {
   "cell_type": "code",
   "execution_count": 29,
   "metadata": {},
   "outputs": [
    {
     "name": "stdout",
     "output_type": "stream",
     "text": [
      "8921 9594 5863 5492\n"
     ]
    }
   ],
   "source": [
    "# One letter counts\n",
    "print(count_pattern(sequence, 'A'),\n",
    "count_pattern(sequence, 'T'),\n",
    "count_pattern(sequence, 'G'),\n",
    "count_pattern(sequence, 'C'))"
   ]
  },
  {
   "cell_type": "code",
   "execution_count": 30,
   "metadata": {},
   "outputs": [],
   "source": [
    "from itertools import product\n",
    "CP2 = [''.join(_set) for _set in product(str('ATGC'), repeat=2)] \n",
    "\n",
    "count2 = []\n",
    "for i in CP2:\n",
    "    count2.append(count_pattern(sequence,i))\n",
    "\n",
    "df_count2 = pd.DataFrame({'bp':CP2, 'count':count2})"
   ]
  },
  {
   "cell_type": "code",
   "execution_count": 31,
   "metadata": {},
   "outputs": [],
   "source": [
    "CP3 = [''.join(_set) for _set in product(str('ATGC'), repeat=3)] \n",
    "\n",
    "count3 = []\n",
    "for i in CP3:\n",
    "    count3.append(count_pattern(sequence,i))\n",
    "    \n",
    "df_count3 = pd.DataFrame({'bp':CP3, 'count':count3})"
   ]
  },
  {
   "cell_type": "code",
   "execution_count": null,
   "metadata": {},
   "outputs": [],
   "source": [
    "CP4 = [''.join(_set) for _set in product(str('ATGC'), repeat=4)] \n",
    "# for _set in product(list('abc'), repeat=3):\n",
    "\n",
    "count4 = []\n",
    "for i in CP4:\n",
    "    count4.append(count_pattern(sequence,i))\n",
    "    \n",
    "df_count4 = pd.DataFrame({'bp':CP4, 'count':count4})"
   ]
  },
  {
   "cell_type": "code",
   "execution_count": 15,
   "metadata": {},
   "outputs": [],
   "source": [
    "CP5 = [''.join(_set) for _set in product(str('ATGC'), repeat=5)] \n",
    "\n",
    "count5 = []\n",
    "for i in CP5:\n",
    "    count5.append(count_pattern(sequence,i))\n",
    "    \n",
    "df_count5 = pd.DataFrame({'bp':CP5, 'count':count5})"
   ]
  },
  {
   "cell_type": "code",
   "execution_count": 16,
   "metadata": {},
   "outputs": [],
   "source": [
    "with pd.ExcelWriter('SARS result 6.xlsx') as writer:\n",
    "    df_count2.to_excel(writer, sheet_name='2 bp pattern',index=False, header=None)\n",
    "    df_count3.to_excel(writer, sheet_name='3 bp pattern',index=False, header=None)\n",
    "    df_count4.to_excel(writer, sheet_name='4 bp pattern',index=False, header=None)\n",
    "    df_count5.to_excel(writer, sheet_name='5 bp pattern',index=False, header=None)"
   ]
  }
 ],
 "metadata": {
  "kernelspec": {
   "display_name": "Python 3",
   "language": "python",
   "name": "python3"
  },
  "language_info": {
   "codemirror_mode": {
    "name": "ipython",
    "version": 3
   },
   "file_extension": ".py",
   "mimetype": "text/x-python",
   "name": "python",
   "nbconvert_exporter": "python",
   "pygments_lexer": "ipython3",
   "version": "3.7.3"
  }
 },
 "nbformat": 4,
 "nbformat_minor": 2
}
